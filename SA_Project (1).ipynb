{
  "nbformat": 4,
  "nbformat_minor": 0,
  "metadata": {
    "colab": {
      "provenance": []
    },
    "kernelspec": {
      "name": "python3",
      "display_name": "Python 3"
    },
    "language_info": {
      "name": "python"
    }
  },
  "cells": [
    {
      "cell_type": "code",
      "execution_count": null,
      "metadata": {
        "id": "-DCI9CBum9KE"
      },
      "outputs": [],
      "source": [
        "import pandas as pd\n",
        "import numpy as np\n",
        "import matplotlib.pyplot as plt"
      ]
    },
    {
      "cell_type": "code",
      "source": [
        "!pip install  bokeh --quiet"
      ],
      "metadata": {
        "id": "1_5-vom-nGze"
      },
      "execution_count": null,
      "outputs": []
    },
    {
      "cell_type": "code",
      "source": [
        "!pip install -U pathway"
      ],
      "metadata": {
        "collapsed": true,
        "id": "DUs1G-S65bIx"
      },
      "execution_count": null,
      "outputs": []
    },
    {
      "cell_type": "code",
      "source": [
        "!pip install panel"
      ],
      "metadata": {
        "collapsed": true,
        "id": "YF-FMNlqb09k"
      },
      "execution_count": null,
      "outputs": []
    },
    {
      "cell_type": "code",
      "source": [
        "import pathway as pw\n",
        "import datetime\n",
        "from datetime import datetime\n",
        "import bokeh.plotting\n",
        "import panel as pn"
      ],
      "metadata": {
        "id": "ymDEs9M8nTob"
      },
      "execution_count": null,
      "outputs": []
    },
    {
      "cell_type": "markdown",
      "source": [
        "Model 2: Demand-Based Price Function"
      ],
      "metadata": {
        "id": "KDGupXvASuZw"
      }
    },
    {
      "cell_type": "code",
      "source": [
        "from google.colab import drive\n",
        "drive.mount('/content/drive')"
      ],
      "metadata": {
        "id": "yRVrTs_GnpwB"
      },
      "execution_count": null,
      "outputs": []
    },
    {
      "cell_type": "code",
      "source": [
        "df_1 = pd.read_csv('/content/drive/MyDrive/dataset.csv')\n",
        "df_1"
      ],
      "metadata": {
        "id": "dCW_hp2CoBEp"
      },
      "execution_count": null,
      "outputs": []
    },
    {
      "cell_type": "code",
      "source": [
        "df_1.SystemCodeNumber.unique()"
      ],
      "metadata": {
        "id": "zvxdTFyUoBKV"
      },
      "execution_count": null,
      "outputs": []
    },
    {
      "cell_type": "code",
      "source": [
        "df_1"
      ],
      "metadata": {
        "id": "3fPPkknBoqSS"
      },
      "execution_count": null,
      "outputs": []
    },
    {
      "cell_type": "code",
      "source": [
        "df_1['Timestamp'] = pd.to_datetime(df_1['LastUpdatedDate'] + ' ' + df_1['LastUpdatedTime'],\n",
        "                                  format='%d-%m-%Y %H:%M:%S')\n",
        "df_1.head()"
      ],
      "metadata": {
        "id": "uvsxfqDBoqVt"
      },
      "execution_count": null,
      "outputs": []
    },
    {
      "cell_type": "code",
      "source": [
        "df_1.VehicleType.unique()"
      ],
      "metadata": {
        "id": "0FBkv1Npo-cL"
      },
      "execution_count": null,
      "outputs": []
    },
    {
      "cell_type": "code",
      "source": [
        "df_1.TrafficConditionNearby.unique()"
      ],
      "metadata": {
        "id": "xnNBrbBYo-fj"
      },
      "execution_count": null,
      "outputs": []
    },
    {
      "cell_type": "code",
      "source": [
        "df_1['TrafficConditionNearby']=df_1['TrafficConditionNearby'].replace({'low':0, 'average':1, 'high':2})"
      ],
      "metadata": {
        "id": "4HuE7eyRqQTA"
      },
      "execution_count": null,
      "outputs": []
    },
    {
      "cell_type": "code",
      "source": [
        " df_1['VehicleType']=df_1['VehicleType'].replace({'cycle':0,'car':2, 'bike':1, 'truck':3})"
      ],
      "metadata": {
        "id": "l5BwO-lrqQWe"
      },
      "execution_count": null,
      "outputs": []
    },
    {
      "cell_type": "code",
      "source": [
        "df_1"
      ],
      "metadata": {
        "id": "Z_j-05Qx2r7z"
      },
      "execution_count": null,
      "outputs": []
    },
    {
      "cell_type": "code",
      "source": [
        "df_1.dtypes"
      ],
      "metadata": {
        "id": "WhlvizzZrtQj"
      },
      "execution_count": null,
      "outputs": []
    },
    {
      "cell_type": "code",
      "source": [
        "df_1=df_1.sort_values('Timestamp').reset_index(drop=True)"
      ],
      "metadata": {
        "id": "n4jRvvUqqQhq"
      },
      "execution_count": null,
      "outputs": []
    },
    {
      "cell_type": "code",
      "source": [
        "df_1[['Timestamp','Occupancy','Capacity','SystemCodeNumber','VehicleType','IsSpecialDay','TrafficConditionNearby','QueueLength']].to_csv('park5_stream.csv',index=False)"
      ],
      "metadata": {
        "id": "znOeKe3qr9Qy"
      },
      "execution_count": null,
      "outputs": []
    },
    {
      "cell_type": "code",
      "source": [],
      "metadata": {
        "id": "VDzcG0e1_yP-"
      },
      "execution_count": null,
      "outputs": []
    },
    {
      "cell_type": "code",
      "source": [
        "import pathway as pw\n",
        "class park5_schema(pw.Schema):\n",
        "    Timestamp: str   # Timestamp of the observation (should ideally be in ISO format)\n",
        "    Occupancy: int  # Number of occupied parking spots\n",
        "    Capacity: int\n",
        "    SystemCodeNumber: str\n",
        "    VehicleType: int\n",
        "    IsSpecialDay: int\n",
        "    TrafficConditionNearby: int\n",
        "    QueueLength: int\n"
      ],
      "metadata": {
        "id": "aM4nTKu3_zAM"
      },
      "execution_count": null,
      "outputs": []
    },
    {
      "cell_type": "code",
      "source": [
        "data_1 = pw.demo.replay_csv(\"park5_stream.csv\", schema=park5_schema, input_rate=1000)"
      ],
      "metadata": {
        "id": "a2TRAw_DwYit"
      },
      "execution_count": null,
      "outputs": []
    },
    {
      "cell_type": "code",
      "source": [
        "fmt='%Y-%m-%d %H:%M:%S'\n",
        "data_1_with_time = data_1.with_columns(t=data_1.Timestamp.dt.strptime(fmt),day = data_1.Timestamp.dt.strptime(fmt).dt.strftime(\"%Y-%m-%dT00:00:00\")\n",
        ")\n"
      ],
      "metadata": {
        "id": "-ruL_HuitcaL"
      },
      "execution_count": null,
      "outputs": []
    },
    {
      "cell_type": "code",
      "source": [
        "import datetime\n",
        "\n",
        "\n",
        "delta_window_1=data_1_with_time.windowby(pw.this.t,instance=pw.this.SystemCodeNumber,window=pw.temporal.tumbling(datetime.timedelta(days=1)),\n",
        "behavior=pw.temporal.exactly_once_behavior()).with_columns(demand = 2*(pw.this.Occupancy/pw.this.Capacity) - (0.5*pw.this.QueueLength) - (0.5*pw.this.TrafficConditionNearby) +\n",
        "                                                    pw.this.IsSpecialDay + (0.5*pw.this.VehicleType)).select(pw.this.SystemCodeNumber,\n",
        "                                               pw.this.t,pw.this.demand)\n",
        "\n",
        "pw.debug.compute_and_print(delta_window_1)\n"
      ],
      "metadata": {
        "id": "fiKzwcIZtuqZ",
        "collapsed": true
      },
      "execution_count": null,
      "outputs": []
    },
    {
      "cell_type": "code",
      "source": [
        "reduced_table = delta_window_1.reduce(min_demand=pw.reducers.min(delta_window_1.demand),max_demand=pw.reducers.max(delta_window_1.demand))\n"
      ],
      "metadata": {
        "id": "QGMdREdIvajB"
      },
      "execution_count": null,
      "outputs": []
    },
    {
      "cell_type": "code",
      "source": [
        "min_max_demand_table = delta_window_1.select(\n",
        "    *pw.this, reduced_table.ix_ref().min_demand, reduced_table.ix_ref().max_demand\n",
        ")\n"
      ],
      "metadata": {
        "collapsed": true,
        "id": "hchOAJbFK0Lq"
      },
      "execution_count": null,
      "outputs": []
    },
    {
      "cell_type": "code",
      "source": [
        "normalized_table = min_max_demand_table.with_columns(\n",
        "    normalized_demand=(\n",
        "        (pw.this.demand - pw.this.min_demand) /\n",
        "        (pw.this.max_demand - pw.this.min_demand + 1e-6)  # avoid divide-by-zero\n",
        "    )\n",
        ").select(pw.this.t, pw.this.SystemCodeNumber, pw.this.normalized_demand)\n"
      ],
      "metadata": {
        "id": "I7-6sM5Bx4UR"
      },
      "execution_count": null,
      "outputs": []
    },
    {
      "cell_type": "code",
      "source": [
        "price_table = normalized_table.windowby(pw.this.t,instance=pw.this.SystemCodeNumber,window=pw.temporal.tumbling(datetime.timedelta(days=1)),\n",
        "behavior=pw.temporal.exactly_once_behavior()).with_columns(price = 10 + (1 + 2*pw.this.normalized_demand)).select(pw.this.t,\n",
        "                                    pw.this.SystemCodeNumber,pw.this.price)\n"
      ],
      "metadata": {
        "id": "yHX3008Cyv5Q"
      },
      "execution_count": null,
      "outputs": []
    },
    {
      "cell_type": "code",
      "execution_count": null,
      "metadata": {
        "id": "fOL3BJcGveN5"
      },
      "outputs": [],
      "source": [
        "# Activate the Panel extension to enable interactive visualizations\n",
        "pn.extension()\n",
        "\n",
        "# Define a custom Bokeh plotting function that takes a data source (from Pathway) and returns a figure\n",
        "def price_plotter(source):\n",
        "    # Create a Bokeh figure with datetime x-axis\n",
        "    fig = bokeh.plotting.figure(\n",
        "        height=400,\n",
        "        width=800,\n",
        "        title=\"Pathway: Daily Parking Price\",\n",
        "        x_axis_type=\"datetime\",  # Ensure time-based data is properly formatted on the x-axis\n",
        "    )\n",
        "    # Plot a line graph showing how the price evolves over time\n",
        "    fig.line(\"t\", \"price\", source=source, line_width=2, color=\"navy\")\n",
        "\n",
        "    # Overlay red circles at each data point for better visibility\n",
        "    fig.scatter(\"t\", \"price\", source=source, size=6, color=\"red\")\n",
        "\n",
        "    return fig\n",
        "\n",
        "# Use Pathway's built-in .plot() method to bind the data stream (delta_window) to the Bokeh plot\n",
        "# - 'price_plotter' is the rendering function\n",
        "# - 'sorting_col=\"t\"' ensures the data is plotted in time order\n",
        "viz = price_table.plot(price_plotter, sorting_col=\"t\")\n",
        "\n",
        "# Create a Panel layout and make it servable as a web app\n",
        "# This line enables the interactive plot to be displayed when the app is served\n",
        "pn.Column(viz).servable()"
      ]
    },
    {
      "cell_type": "code",
      "source": [
        "pw.run()"
      ],
      "metadata": {
        "id": "dsfXT8ZrMkI-"
      },
      "execution_count": null,
      "outputs": []
    },
    {
      "cell_type": "code",
      "source": [],
      "metadata": {
        "id": "ZYKn2EHdRyhl"
      },
      "execution_count": null,
      "outputs": []
    },
    {
      "cell_type": "markdown",
      "source": [
        "Model 1: Baseline Linear Model"
      ],
      "metadata": {
        "id": "S_6hvKb4TFCF"
      }
    },
    {
      "cell_type": "code",
      "source": [
        "import pathway as pw\n",
        "import datetime\n",
        "from datetime import datetime\n",
        "import bokeh.plotting\n",
        "import panel as pn"
      ],
      "metadata": {
        "id": "7tlv6rxn0GRG"
      },
      "execution_count": null,
      "outputs": []
    },
    {
      "cell_type": "code",
      "source": [
        "    from google.colab import drive\n",
        "    drive.mount('/content/drive')"
      ],
      "metadata": {
        "id": "HNv4_s02GEMJ"
      },
      "execution_count": null,
      "outputs": []
    },
    {
      "cell_type": "code",
      "source": [
        "df=pd.read_csv('/content/drive/MyDrive/dataset.csv')\n",
        "df"
      ],
      "metadata": {
        "id": "SZXVA-A80dnB"
      },
      "execution_count": null,
      "outputs": []
    },
    {
      "cell_type": "code",
      "source": [
        "df.Latitude.unique()"
      ],
      "metadata": {
        "id": "jfR3UpRJ3t6y"
      },
      "execution_count": null,
      "outputs": []
    },
    {
      "cell_type": "code",
      "source": [
        "df.Longitude.unique()"
      ],
      "metadata": {
        "id": "XLwpLqkT3uIG"
      },
      "execution_count": null,
      "outputs": []
    },
    {
      "cell_type": "code",
      "source": [
        "df['Location']=str(df['Latitude'])+\" \"+str( df['Longitude'])"
      ],
      "metadata": {
        "id": "-ZF4X6N-3_qu"
      },
      "execution_count": null,
      "outputs": []
    },
    {
      "cell_type": "code",
      "source": [
        "df"
      ],
      "metadata": {
        "id": "hvIl7oC63_tR"
      },
      "execution_count": null,
      "outputs": []
    },
    {
      "cell_type": "code",
      "source": [
        "l=np.array(df.SystemCodeNumber.unique())\n",
        "l"
      ],
      "metadata": {
        "id": "9XCNWOd-Kgew"
      },
      "execution_count": null,
      "outputs": []
    },
    {
      "cell_type": "code",
      "source": [
        "df['Timestamp'] = pd.to_datetime(df['LastUpdatedDate'] + ' ' + df['LastUpdatedTime'],\n",
        "                                  format='%d-%m-%Y %H:%M:%S')"
      ],
      "metadata": {
        "id": "HE_O88mg3_wr"
      },
      "execution_count": null,
      "outputs": []
    },
    {
      "cell_type": "code",
      "source": [
        "df.head()"
      ],
      "metadata": {
        "id": "yE3S4gHY5eMP"
      },
      "execution_count": null,
      "outputs": []
    },
    {
      "cell_type": "code",
      "source": [
        "df=df.sort_values('Timestamp').reset_index(drop=True)"
      ],
      "metadata": {
        "id": "e_q6lgio5lb5"
      },
      "execution_count": null,
      "outputs": []
    },
    {
      "cell_type": "code",
      "source": [
        "df"
      ],
      "metadata": {
        "id": "6-bkOFmD5lkU"
      },
      "execution_count": null,
      "outputs": []
    },
    {
      "cell_type": "code",
      "source": [
        "type(df)"
      ],
      "metadata": {
        "id": "knkWfUe5sNVp"
      },
      "execution_count": null,
      "outputs": []
    },
    {
      "cell_type": "code",
      "source": [
        "grouped_df=df.groupby('SystemCodeNumber',sort=False).apply(lambda x: x ).reset_index(drop=True)"
      ],
      "metadata": {
        "id": "tsv0jEsbHaoO"
      },
      "execution_count": null,
      "outputs": []
    },
    {
      "cell_type": "code",
      "source": [
        "grouped_df"
      ],
      "metadata": {
        "id": "TlLSLg3qqsKK"
      },
      "execution_count": null,
      "outputs": []
    },
    {
      "cell_type": "code",
      "source": [
        "grouped_df['price'] = 2*grouped_df['Occupancy']/grouped_df['Capacity']"
      ],
      "metadata": {
        "id": "AVzznPZvwlkK"
      },
      "execution_count": null,
      "outputs": []
    },
    {
      "cell_type": "code",
      "source": [
        "grouped_df['prev_price'] = grouped_df['price'].shift(1).fillna(0)"
      ],
      "metadata": {
        "id": "RWEG7xLmwwxu"
      },
      "execution_count": null,
      "outputs": []
    },
    {
      "cell_type": "code",
      "source": [
        "grouped_df['prev_occ'] = grouped_df['Occupancy'].shift(1).fillna(0)"
      ],
      "metadata": {
        "id": "c8tNsaPdzDdt"
      },
      "execution_count": null,
      "outputs": []
    },
    {
      "cell_type": "code",
      "source": [
        "grouped_df"
      ],
      "metadata": {
        "id": "3LFwpDpfxXxa"
      },
      "execution_count": null,
      "outputs": []
    },
    {
      "cell_type": "code",
      "source": [
        "grouped_df[['Timestamp','Occupancy','Capacity','SystemCodeNumber','price','prev_price','prev_occ']].to_csv('park7_stream.csv',index=False)"
      ],
      "metadata": {
        "id": "32Ij2qTZyF20"
      },
      "execution_count": null,
      "outputs": []
    },
    {
      "cell_type": "code",
      "source": [
        "class Park7_Schema(pw.Schema):\n",
        "    Timestamp: str   # Timestamp of the observation (should ideally be in ISO format)\n",
        "    Occupancy: float  # Number of occupied parking spots\n",
        "    Capacity: float\n",
        "    SystemCodeNumber: str\n",
        "    price: float\n",
        "    prev_price: float\n",
        "    prev_occ: float\n"
      ],
      "metadata": {
        "id": "Zc36eDffKiuE"
      },
      "execution_count": null,
      "outputs": []
    },
    {
      "cell_type": "code",
      "source": [],
      "metadata": {
        "id": "mbJUWcVqyFDI"
      },
      "execution_count": null,
      "outputs": []
    },
    {
      "cell_type": "code",
      "source": [
        "data = pw.demo.replay_csv(\"park7_stream.csv\", schema=Park7_Schema, input_rate=1000)\n",
        "pw.debug.compute_and_print(data)"
      ],
      "metadata": {
        "id": "hm8u8Wnllk3L",
        "collapsed": true
      },
      "execution_count": null,
      "outputs": []
    },
    {
      "cell_type": "code",
      "source": [],
      "metadata": {
        "id": "CGw9CTzrlVSk"
      },
      "execution_count": null,
      "outputs": []
    },
    {
      "cell_type": "code",
      "source": [
        "fmt='%Y-%m-%d %H:%M:%S'\n",
        "data_with_time=data.with_columns(time=pw.this.Timestamp.dt.strptime(fmt),t=data.Timestamp.dt.strptime(fmt).dt.floor('1d'),\n",
        "                                 day = data.Timestamp.dt.strptime(fmt).dt.strftime(\"%Y-%m-%dT00:00:00\"))\n",
        "pw.debug.compute_and_print(data_with_time)"
      ],
      "metadata": {
        "id": "w3Zr8k0rHbB6",
        "collapsed": true
      },
      "execution_count": null,
      "outputs": []
    },
    {
      "cell_type": "code",
      "source": [
        "\n",
        "import datetime\n",
        "\n",
        "\n",
        "delta_window=data_with_time.windowby(pw.this.t,instance=pw.this.SystemCodeNumber,window=pw.temporal.tumbling(datetime.timedelta(days=1)),\n",
        "behavior=pw.temporal.exactly_once_behavior()).with_columns(final_price=pw.if_else(pw.this.Occupancy > pw.this.prev_occ,\n",
        "( pw.this.price + pw.this.prev_price + 10.0), (10.0 + pw.this.price - pw.this.prev_price))).select(pw.this.t,pw.this.SystemCodeNumber,\n",
        "                                                        pw.this.final_price,pw.this.price)\n",
        "pw.debug.compute_and_print(delta_window)"
      ],
      "metadata": {
        "id": "JXlPfb4wI9PW",
        "collapsed": true
      },
      "execution_count": null,
      "outputs": []
    },
    {
      "cell_type": "code",
      "source": [
        "import pathway\n",
        "print(pathway.__version__)\n"
      ],
      "metadata": {
        "id": "tkpz9eIp-jeq"
      },
      "execution_count": null,
      "outputs": []
    },
    {
      "cell_type": "code",
      "source": [],
      "metadata": {
        "id": "l8XgfQJ8_jz5"
      },
      "execution_count": null,
      "outputs": []
    },
    {
      "cell_type": "code",
      "source": [
        "# Activate the Panel extension to enable interactive visualizations\n",
        "pn.extension()\n",
        "\n",
        "# Define a custom Bokeh plotting function that takes a data source (from Pathway) and returns a figure\n",
        "def price_plott(source):\n",
        "    # Create a Bokeh figure with datetime x-axis\n",
        "    fig = bokeh.plotting.figure(\n",
        "        height=400,\n",
        "        width=800,\n",
        "        title=\"Pathway: Daily Parking Price\",\n",
        "        x_axis_type=\"datetime\",  # Ensure time-based data is properly formatted on the x-axis\n",
        "    )\n",
        "    # Plot a line graph showing how the price evolves over time\n",
        "    fig.line(\"t\", \"final_price\", source=source, line_width=2, color=\"navy\")\n",
        "\n",
        "    # Overlay red circles at each data point for better visibility\n",
        "    fig.scatter(\"t\", \"final_price\", source=source, size=6, color=\"red\")\n",
        "\n",
        "    return fig\n",
        "\n",
        "# Use Pathway's built-in .plot() method to bind the data stream (delta_window) to the Bokeh plot\n",
        "# - 'price_plotter' is the rendering function\n",
        "# - 'sorting_col=\"t\"' ensures the data is plotted in time order\n",
        "tem = delta_window.plot(price_plott, sorting_col=\"t\")\n",
        "\n",
        "# Create a Panel layout and make it servable as a web app\n",
        "# This line enables the interactive plot to be displayed when the app is served\n",
        "pn.Column(tem).servable()"
      ],
      "metadata": {
        "id": "3eYUZ7TopuHi"
      },
      "execution_count": null,
      "outputs": []
    },
    {
      "cell_type": "code",
      "source": [
        "pw.run()"
      ],
      "metadata": {
        "id": "SROhwVNW2X8J"
      },
      "execution_count": null,
      "outputs": []
    }
  ]
}